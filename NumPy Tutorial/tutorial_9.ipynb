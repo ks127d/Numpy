{
 "cells": [
  {
   "cell_type": "markdown",
   "metadata": {
    "tags": []
   },
   "source": [
    "# String Operation"
   ]
  },
  {
   "cell_type": "code",
   "execution_count": 1,
   "metadata": {},
   "outputs": [],
   "source": [
    "import numpy as np"
   ]
  },
  {
   "cell_type": "code",
   "execution_count": 2,
   "metadata": {},
   "outputs": [],
   "source": [
    "#created to string\n",
    "str1 = \"Learning Python Numpy\"\n",
    "str2 = \"with Kushagra\""
   ]
  },
  {
   "cell_type": "code",
   "execution_count": 3,
   "metadata": {},
   "outputs": [
    {
     "name": "stdout",
     "output_type": "stream",
     "text": [
      "Learning Python Numpywith Kushagra\n"
     ]
    }
   ],
   "source": [
    "#adding two string (watch space)\n",
    "str3 = np.char.add(str1, str2)\n",
    "print(str3)"
   ]
  },
  {
   "cell_type": "code",
   "execution_count": 4,
   "metadata": {},
   "outputs": [
    {
     "name": "stdout",
     "output_type": "stream",
     "text": [
      "Learning Python NumpyLearning Python Numpy\n"
     ]
    }
   ],
   "source": [
    "#muliplication to string\n",
    "str4 = np.char.multiply(str1, 2)\n",
    "print(str4)"
   ]
  },
  {
   "cell_type": "code",
   "execution_count": 5,
   "metadata": {},
   "outputs": [
    {
     "name": "stdout",
     "output_type": "stream",
     "text": [
      "learning python numpy\n"
     ]
    }
   ],
   "source": [
    "#turning to lower case\n",
    "str5 = np.char.lower(str1)\n",
    "print(str5)"
   ]
  },
  {
   "cell_type": "code",
   "execution_count": 6,
   "metadata": {},
   "outputs": [
    {
     "name": "stdout",
     "output_type": "stream",
     "text": [
      "LEARNING PYTHON NUMPY\n"
     ]
    }
   ],
   "source": [
    "#turning to upper case\n",
    "str6 = np.char.upper(str1)\n",
    "print(str6)"
   ]
  },
  {
   "cell_type": "code",
   "execution_count": 7,
   "metadata": {},
   "outputs": [
    {
     "name": "stdout",
     "output_type": "stream",
     "text": [
      "With Kushagra\n"
     ]
    }
   ],
   "source": [
    "#turning to title case\n",
    "str7 = np.char.title(str2)\n",
    "print(str7)"
   ]
  },
  {
   "cell_type": "code",
   "execution_count": 8,
   "metadata": {},
   "outputs": [
    {
     "name": "stdout",
     "output_type": "stream",
     "text": [
      "                       With Kushagra                        \n"
     ]
    }
   ],
   "source": [
    "#displaying string in the centre\n",
    "str8 = np.char.center(str7, 60) #60 character string and str7 is in center\n",
    "#Note: center not centre\n",
    "print(str8)"
   ]
  },
  {
   "cell_type": "code",
   "execution_count": 9,
   "metadata": {},
   "outputs": [
    {
     "name": "stdout",
     "output_type": "stream",
     "text": [
      "***********************With Kushagra************************\n"
     ]
    }
   ],
   "source": [
    "#displaying string in the centre\n",
    "str9 = np.char.center(str7, 60, fillchar=\"*\") #60 character string and str7 is in center and space is filled with *\n",
    "print(str9)"
   ]
  },
  {
   "cell_type": "code",
   "execution_count": 10,
   "metadata": {},
   "outputs": [
    {
     "name": "stdout",
     "output_type": "stream",
     "text": [
      "['LEARNING', 'PYTHON', 'NUMPY']\n"
     ]
    }
   ],
   "source": [
    "#splittig string in list item\n",
    "str10 = np.char.split(str6)\n",
    "print(str10)"
   ]
  },
  {
   "cell_type": "code",
   "execution_count": 11,
   "metadata": {},
   "outputs": [
    {
     "data": {
      "text/plain": [
       "array(list(['learning', 'python', 'numpy']), dtype=object)"
      ]
     },
     "execution_count": 11,
     "metadata": {},
     "output_type": "execute_result"
    }
   ],
   "source": [
    "#splitlines\n",
    "np.char.splitlines(\"learning\\npython\\nnumpy\")"
   ]
  },
  {
   "cell_type": "code",
   "execution_count": 12,
   "metadata": {},
   "outputs": [
    {
     "name": "stdout",
     "output_type": "stream",
     "text": [
      "['K:u:s:h:a:g:r:a' 'S^i^n^g^h']\n"
     ]
    }
   ],
   "source": [
    "#splitting each string with specific character\n",
    "str11 = \"Kushagra\"\n",
    "str12 = \"Singh\"\n",
    "str13 = np.char.join([\":\",\"^\"], [str11, str12])\n",
    "print(str13)"
   ]
  },
  {
   "cell_type": "code",
   "execution_count": 13,
   "metadata": {},
   "outputs": [
    {
     "name": "stdout",
     "output_type": "stream",
     "text": [
      "learning ------^ numpy\n"
     ]
    }
   ],
   "source": [
    "#replacing in string\n",
    "str14 = np.char.replace(str5, \"python\", \"------^\") #in 'str5' replace 'and' with '&'\n",
    "print(str14)"
   ]
  },
  {
   "cell_type": "markdown",
   "metadata": {},
   "source": [
    "# Comparision"
   ]
  },
  {
   "cell_type": "code",
   "execution_count": 14,
   "metadata": {},
   "outputs": [
    {
     "data": {
      "text/plain": [
       "array(False)"
      ]
     },
     "execution_count": 14,
     "metadata": {},
     "output_type": "execute_result"
    }
   ],
   "source": [
    "#to find if string are equal or not\n",
    "np.char.equal(str11,str12)"
   ]
  },
  {
   "cell_type": "code",
   "execution_count": 15,
   "metadata": {},
   "outputs": [
    {
     "data": {
      "text/plain": [
       "array(True)"
      ]
     },
     "execution_count": 15,
     "metadata": {},
     "output_type": "execute_result"
    }
   ],
   "source": [
    "np.char.less(str11,str12)"
   ]
  },
  {
   "cell_type": "code",
   "execution_count": 16,
   "metadata": {},
   "outputs": [
    {
     "data": {
      "text/plain": [
       "array(3)"
      ]
     },
     "execution_count": 16,
     "metadata": {},
     "output_type": "execute_result"
    }
   ],
   "source": [
    "#counting character in string\n",
    "np.char.count(str14, \"n\") #o/p = present 2 times"
   ]
  },
  {
   "cell_type": "code",
   "execution_count": 17,
   "metadata": {},
   "outputs": [
    {
     "data": {
      "text/plain": [
       "array(15)"
      ]
     },
     "execution_count": 17,
     "metadata": {},
     "output_type": "execute_result"
    }
   ],
   "source": [
    "#checking if character is present in string or not\n",
    "np.char.find(str14, \"^\") #o/p = present at index 7"
   ]
  },
  {
   "cell_type": "code",
   "execution_count": 18,
   "metadata": {},
   "outputs": [],
   "source": [
    "#these were the mostly used operation for more you can visit:\n",
    "# https://docs.scipy.org/doc/numpy-1.15.1/reference/routines.char.html"
   ]
  },
  {
   "cell_type": "code",
   "execution_count": null,
   "metadata": {},
   "outputs": [],
   "source": []
  }
 ],
 "metadata": {
  "kernelspec": {
   "display_name": "Python 3 (ipykernel)",
   "language": "python",
   "name": "python3"
  },
  "language_info": {
   "codemirror_mode": {
    "name": "ipython",
    "version": 3
   },
   "file_extension": ".py",
   "mimetype": "text/x-python",
   "name": "python",
   "nbconvert_exporter": "python",
   "pygments_lexer": "ipython3",
   "version": "3.9.12"
  }
 },
 "nbformat": 4,
 "nbformat_minor": 4
}
