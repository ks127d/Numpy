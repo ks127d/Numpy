{
 "cells": [
  {
   "cell_type": "markdown",
   "metadata": {},
   "source": [
    "# NumPy Functions"
   ]
  },
  {
   "cell_type": "code",
   "execution_count": 1,
   "metadata": {},
   "outputs": [],
   "source": [
    "#we have imported numpy as np\n",
    "import numpy as np"
   ]
  },
  {
   "cell_type": "markdown",
   "metadata": {},
   "source": [
    "# arange()"
   ]
  },
  {
   "cell_type": "code",
   "execution_count": 2,
   "metadata": {},
   "outputs": [
    {
     "name": "stdout",
     "output_type": "stream",
     "text": [
      "[ 1  2  3  4  5  6  7  8  9 10 11 12 13 14 15 16 17 18 19 20]\n"
     ]
    }
   ],
   "source": [
    "#we can arrange the series (default is asecending order)by\n",
    "#np.arange(start, end, step)\n",
    "ar1_1d = np.arange(1,21)\n",
    "print(ar1_1d)"
   ]
  },
  {
   "cell_type": "code",
   "execution_count": 3,
   "metadata": {},
   "outputs": [
    {
     "name": "stdout",
     "output_type": "stream",
     "text": [
      "[ 2  4  6  8 10 12 14 16 18 20]\n"
     ]
    }
   ],
   "source": [
    "#smartly using steps to create even array\n",
    "ar_even = np.arange(2,21,2)\n",
    "print(ar_even)\n",
    "#try yourself for odd array"
   ]
  },
  {
   "cell_type": "markdown",
   "metadata": {},
   "source": [
    "# linspace()"
   ]
  },
  {
   "cell_type": "code",
   "execution_count": 4,
   "metadata": {},
   "outputs": [
    {
     "name": "stdout",
     "output_type": "stream",
     "text": [
      "[1.         2.33333333 3.66666667 5.        ]\n"
     ]
    }
   ],
   "source": [
    "#this creates sequences of evenly spaced numbers\n",
    "ar2 = np.linspace(1,5,4) #divided in four parts and evenly spaced\n",
    "print(ar2)"
   ]
  },
  {
   "cell_type": "markdown",
   "metadata": {},
   "source": [
    "# reshape()"
   ]
  },
  {
   "cell_type": "code",
   "execution_count": 5,
   "metadata": {
    "scrolled": true
   },
   "outputs": [
    {
     "ename": "ValueError",
     "evalue": "cannot reshape array of size 20 into shape (2,6)",
     "output_type": "error",
     "traceback": [
      "\u001b[0;31m---------------------------------------------------------------------------\u001b[0m",
      "\u001b[0;31mValueError\u001b[0m                                Traceback (most recent call last)",
      "Input \u001b[0;32mIn [5]\u001b[0m, in \u001b[0;36m<cell line: 2>\u001b[0;34m()\u001b[0m\n\u001b[1;32m      1\u001b[0m \u001b[38;5;66;03m#use to reshape 1d to 2d to 3d or vice versa\u001b[39;00m\n\u001b[0;32m----> 2\u001b[0m ar3_2d \u001b[38;5;241m=\u001b[39m \u001b[43mar1_1d\u001b[49m\u001b[38;5;241;43m.\u001b[39;49m\u001b[43mreshape\u001b[49m\u001b[43m(\u001b[49m\u001b[38;5;241;43m2\u001b[39;49m\u001b[43m,\u001b[49m\u001b[38;5;241;43m6\u001b[39;49m\u001b[43m)\u001b[49m\n\u001b[1;32m      3\u001b[0m \u001b[38;5;28mprint\u001b[39m(ar3_2d)\n",
      "\u001b[0;31mValueError\u001b[0m: cannot reshape array of size 20 into shape (2,6)"
     ]
    }
   ],
   "source": [
    "#use to reshape 1d to 2d to 3d or vice versa\n",
    "ar3_2d = ar1_1d.reshape(2,6)\n",
    "print(ar3_2d)"
   ]
  },
  {
   "cell_type": "code",
   "execution_count": 6,
   "metadata": {},
   "outputs": [
    {
     "name": "stdout",
     "output_type": "stream",
     "text": [
      "[[ 1  2  3  4  5  6  7  8  9 10]\n",
      " [11 12 13 14 15 16 17 18 19 20]]\n"
     ]
    }
   ],
   "source": [
    "#we have to give valid row and column as 20 numbers can't come in 2,6\n",
    "ar4_2d = ar1_1d.reshape(2,10)\n",
    "print(ar4_2d)"
   ]
  },
  {
   "cell_type": "code",
   "execution_count": 7,
   "metadata": {},
   "outputs": [
    {
     "name": "stdout",
     "output_type": "stream",
     "text": [
      "[[[ 1  2]\n",
      "  [ 3  4]\n",
      "  [ 5  6]\n",
      "  [ 7  8]\n",
      "  [ 9 10]]\n",
      "\n",
      " [[11 12]\n",
      "  [13 14]\n",
      "  [15 16]\n",
      "  [17 18]\n",
      "  [19 20]]]\n"
     ]
    }
   ],
   "source": [
    "#1d to 3rd (three values are required i.e. 3d, 2d, 1d in order)\n",
    "#i.e.        .reshape(3d,2d,1d)\n",
    "ar5_3d = ar1_1d.reshape(2,5,2) #this is 2, 3d array each composed of 5, 2d array made by 1d array of 2 \n",
    "print(ar5_3d)"
   ]
  },
  {
   "cell_type": "code",
   "execution_count": 8,
   "metadata": {},
   "outputs": [
    {
     "name": "stdout",
     "output_type": "stream",
     "text": [
      "[[ 1  2  3  4  5  6]\n",
      " [ 7  8  9 10 11 12]]\n"
     ]
    }
   ],
   "source": [
    "#now we'll use composition of functions\n",
    "ar5_2d = np.arange(1,13).reshape(2,6)\n",
    "print(ar5_2d)"
   ]
  },
  {
   "cell_type": "markdown",
   "metadata": {},
   "source": [
    "# ravel()"
   ]
  },
  {
   "cell_type": "code",
   "execution_count": 9,
   "metadata": {},
   "outputs": [
    {
     "name": "stdout",
     "output_type": "stream",
     "text": [
      "[ 1  2  3  4  5  6  7  8  9 10 11 12]\n"
     ]
    }
   ],
   "source": [
    "#this converts multi-dimension array into 1d array\n",
    "ar6_1d = ar5_2d.ravel()\n",
    "print(ar6_1d)"
   ]
  },
  {
   "cell_type": "markdown",
   "metadata": {},
   "source": [
    "# flatten()"
   ]
  },
  {
   "cell_type": "code",
   "execution_count": 10,
   "metadata": {},
   "outputs": [
    {
     "name": "stdout",
     "output_type": "stream",
     "text": [
      "[ 1  2  3  4  5  6  7  8  9 10 11 12]\n"
     ]
    }
   ],
   "source": [
    "#this also converts multi-dimension array into 1d array\n",
    "ar7_1d = ar5_2d.flatten()\n",
    "print(ar7_1d)"
   ]
  },
  {
   "cell_type": "code",
   "execution_count": 11,
   "metadata": {},
   "outputs": [],
   "source": [
    "#we can use any to convert to 1d array\n",
    "#the key difference is: flatten is a method of an ndarray object and hence can only be called for true numpy arrays. ravel is a library-level function and hence can be called on any object that can successfully be parsed.\n",
    "#if you didn't understood this don't worry just remember the above and will understand this in advance applications.\n",
    "\n",
    "\n",
    "\n",
    "#if u can't go forward without eating this, then try below:\n",
    "\n",
    "# import numpy\n",
    "# a = numpy.array([[1,2],[3,4]])\n",
    "\n",
    "# r = numpy.ravel(a)\n",
    "# f = numpy.ndarray.flatten(a)  \n",
    "\n",
    "# print(id(a))\n",
    "# print(id(r))\n",
    "# print(id(f))\n",
    "\n",
    "# print(r)\n",
    "# print(f)\n",
    "\n",
    "# print(\"\\nbase r:\", r.base)\n",
    "# print(\"\\nbase f:\", f.base)\n",
    "\n",
    "# ---returns---\n",
    "# 140541099429760\n",
    "# 140541099471056\n",
    "# 140541099473216\n",
    "\n",
    "# [1 2 3 4]\n",
    "# [1 2 3 4]\n",
    "\n",
    "# base r: [[1 2]\n",
    "#  [3 4]]\n",
    "\n",
    "# base f: None\n",
    "# In the upper example:\n",
    "\n",
    "# the memory locations of the results are different,\n",
    "# the results look the same\n",
    "# flatten would return a copy\n",
    "# ravel would return a view.\n",
    "# How we check if something is a copy? Using the .base attribute of the ndarray. If it's a view, the base will be the original array; if it is a copy, the base will be None."
   ]
  },
  {
   "cell_type": "markdown",
   "metadata": {},
   "source": [
    "# transpose()"
   ]
  },
  {
   "cell_type": "code",
   "execution_count": 12,
   "metadata": {},
   "outputs": [
    {
     "name": "stdout",
     "output_type": "stream",
     "text": [
      "[[ 1  7]\n",
      " [ 2  8]\n",
      " [ 3  9]\n",
      " [ 4 10]\n",
      " [ 5 11]\n",
      " [ 6 12]]\n"
     ]
    }
   ],
   "source": [
    "#give the transpose of matrix i.e. row to column and column to rows\n",
    "ar8_2d = ar5_2d.transpose() #(2,6) to (6,2) (parenthesis)\n",
    "print(ar8_2d)"
   ]
  },
  {
   "cell_type": "code",
   "execution_count": 13,
   "metadata": {},
   "outputs": [
    {
     "name": "stdout",
     "output_type": "stream",
     "text": [
      "[[ 1  7]\n",
      " [ 2  8]\n",
      " [ 3  9]\n",
      " [ 4 10]\n",
      " [ 5 11]\n",
      " [ 6 12]]\n"
     ]
    }
   ],
   "source": [
    "#we can also use sort from of tranpose i.e. T\n",
    "ar8_2d = ar5_2d.T #(2,6) to (6,2) (no parenthesis)\n",
    "print(ar8_2d)"
   ]
  },
  {
   "cell_type": "code",
   "execution_count": null,
   "metadata": {},
   "outputs": [],
   "source": []
  }
 ],
 "metadata": {
  "kernelspec": {
   "display_name": "Python 3 (ipykernel)",
   "language": "python",
   "name": "python3"
  },
  "language_info": {
   "codemirror_mode": {
    "name": "ipython",
    "version": 3
   },
   "file_extension": ".py",
   "mimetype": "text/x-python",
   "name": "python",
   "nbconvert_exporter": "python",
   "pygments_lexer": "ipython3",
   "version": "3.9.12"
  }
 },
 "nbformat": 4,
 "nbformat_minor": 4
}
